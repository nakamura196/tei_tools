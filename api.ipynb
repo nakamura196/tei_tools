{
 "cells": [
  {
   "cell_type": "markdown",
   "metadata": {},
   "source": [
    "# TEI Tools\n",
    "\n",
    "> Tools for working with TEI/XML"
   ]
  },
  {
   "cell_type": "code",
   "execution_count": null,
   "metadata": {},
   "outputs": [],
   "source": [
    "#| default_exp api"
   ]
  },
  {
   "cell_type": "code",
   "execution_count": null,
   "metadata": {},
   "outputs": [],
   "source": [
    "#| hide\n",
    "from nbdev.showdoc import *\n",
    "from bs4 import BeautifulSoup"
   ]
  },
  {
   "cell_type": "code",
   "execution_count": null,
   "metadata": {},
   "outputs": [],
   "source": [
    "#| export\n",
    "class TeiTools:\n",
    "    def __init__(self):\n",
    "        '''\n",
    "        This is the main class for the tei-tools package.'''\n",
    "        pass\n",
    "\n",
    "    @staticmethod\n",
    "    def hello_world(title):\n",
    "        '''\n",
    "        This is a static method that prints \"Hello World\"\n",
    "        \n",
    "        Parameters:\n",
    "        * title: str  -  The title of the book\n",
    "        '''\n",
    "        \n",
    "        print(\"Hello World\")\n",
    "\n",
    "    @staticmethod\n",
    "    def analyze(path):\n",
    "        '''\n",
    "        指定したファイルに含まれる要素および属性を抽出する\n",
    "        \n",
    "        Parameters:\n",
    "        * path: str  -  Path to the TEI/XML file\n",
    "        '''\n",
    "\n",
    "        soup = BeautifulSoup(open(path,'r'), \"xml\")\n",
    "            \n",
    "        children = soup.find(\"TEI\").findChildren(recursive=False)\n",
    "\n",
    "        freq = {}\n",
    "\n",
    "        for child in children:\n",
    "            p = child.name\n",
    "\n",
    "            if p not in freq:\n",
    "                freq[p] = {}\n",
    "\n",
    "            elements = child.findChildren(recursive=True)\n",
    "            # print(len(elements))\n",
    "\n",
    "            m = freq[p]\n",
    "\n",
    "            for element in elements:\n",
    "                name = element.name\n",
    "                if name not in m:\n",
    "                    m[name] = {}\n",
    "\n",
    "                attrs = element.attrs\n",
    "                if len(attrs) == 0:\n",
    "                    field = \"none\"\n",
    "                    if field not in m[name]:\n",
    "                        m[name][field] = 0\n",
    "                    m[name][field] += 1\n",
    "                for attr in attrs:\n",
    "                    field = attr\n",
    "                    if field not in m[name]:\n",
    "                        m[name][field] = 0\n",
    "                    m[name][field] += 1\n",
    "        \n",
    "        return freq"
   ]
  },
  {
   "cell_type": "code",
   "execution_count": null,
   "metadata": {},
   "outputs": [
    {
     "data": {
      "text/markdown": [
       "---\n",
       "\n",
       "### TeiTools.hello_world\n",
       "\n",
       ">      TeiTools.hello_world (title)\n",
       "\n",
       "This is a static method that prints \"Hello World\"\n",
       "\n",
       "Parameters:\n",
       "* title: str  -  The title of the book"
      ],
      "text/plain": [
       "---\n",
       "\n",
       "### TeiTools.hello_world\n",
       "\n",
       ">      TeiTools.hello_world (title)\n",
       "\n",
       "This is a static method that prints \"Hello World\"\n",
       "\n",
       "Parameters:\n",
       "* title: str  -  The title of the book"
      ]
     },
     "execution_count": null,
     "metadata": {},
     "output_type": "execute_result"
    }
   ],
   "source": [
    "show_doc(TeiTools.hello_world)"
   ]
  },
  {
   "cell_type": "code",
   "execution_count": null,
   "metadata": {},
   "outputs": [
    {
     "name": "stdout",
     "output_type": "stream",
     "text": [
      "Hello World\n"
     ]
    }
   ],
   "source": [
    "TeiTools.hello_world(\"abc\")"
   ]
  },
  {
   "cell_type": "markdown",
   "metadata": {},
   "source": [
    "サンプルデータとして、校異源氏物語のTEI/XMLをダウンロード"
   ]
  },
  {
   "cell_type": "code",
   "execution_count": null,
   "metadata": {},
   "outputs": [
    {
     "name": "stdout",
     "output_type": "stream",
     "text": [
      "fatal: destination path 'sample' already exists and is not an empty directory.\n"
     ]
    }
   ],
   "source": [
    "!git clone https://github.com/kouigenjimonogatari/kouigenjimonogatari.github.io sample"
   ]
  },
  {
   "cell_type": "markdown",
   "metadata": {},
   "source": [
    "## 要素の分析"
   ]
  },
  {
   "cell_type": "code",
   "execution_count": null,
   "metadata": {},
   "outputs": [
    {
     "data": {
      "text/markdown": [
       "---\n",
       "\n",
       "### TeiTools.analyze\n",
       "\n",
       ">      TeiTools.analyze (path)\n",
       "\n",
       "指定したファイルに含まれる要素および属性を抽出する\n",
       "\n",
       "Parameters:\n",
       "* path: str  -  Path to the TEI/XML file"
      ],
      "text/plain": [
       "---\n",
       "\n",
       "### TeiTools.analyze\n",
       "\n",
       ">      TeiTools.analyze (path)\n",
       "\n",
       "指定したファイルに含まれる要素および属性を抽出する\n",
       "\n",
       "Parameters:\n",
       "* path: str  -  Path to the TEI/XML file"
      ]
     },
     "execution_count": null,
     "metadata": {},
     "output_type": "execute_result"
    }
   ],
   "source": [
    "show_doc(TeiTools.analyze)"
   ]
  },
  {
   "cell_type": "code",
   "execution_count": null,
   "metadata": {},
   "outputs": [
    {
     "name": "stdout",
     "output_type": "stream",
     "text": [
      "33\n",
      "51\n",
      "706\n"
     ]
    }
   ],
   "source": [
    "input_path = \"sample/tei/01.xml\"\n",
    "results = TeiTools.analyze(input_path)"
   ]
  },
  {
   "cell_type": "code",
   "execution_count": null,
   "metadata": {},
   "outputs": [],
   "source": [
    "#| hide\n",
    "import nbdev; nbdev.nbdev_export()"
   ]
  }
 ],
 "metadata": {
  "kernelspec": {
   "display_name": "Python 3.9.12 ('base')",
   "language": "python",
   "name": "python3"
  }
 },
 "nbformat": 4,
 "nbformat_minor": 4
}
