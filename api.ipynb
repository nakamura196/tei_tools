{
 "cells": [
  {
   "cell_type": "markdown",
   "metadata": {},
   "source": [
    "# TEI Tools\n",
    "\n",
    "> Tools for working with TEI/XML"
   ]
  },
  {
   "cell_type": "code",
   "execution_count": null,
   "metadata": {},
   "outputs": [],
   "source": [
    "#| default_exp api"
   ]
  },
  {
   "cell_type": "code",
   "execution_count": null,
   "metadata": {},
   "outputs": [],
   "source": [
    "#| hide\n",
    "from nbdev.showdoc import *\n",
    "from pprint import pprint\n",
    "import glob\n",
    "# %matplotlib inline \n",
    "# import matplotlib.pyplot as plt"
   ]
  },
  {
   "cell_type": "code",
   "execution_count": null,
   "metadata": {},
   "outputs": [],
   "source": [
    "#| export\n",
    "from bs4 import BeautifulSoup\n",
    "\n",
    "class TeiTools:\n",
    "    def __init__(self):\n",
    "        '''\n",
    "        This is the main class for the tei-tools package.'''\n",
    "        pass\n",
    "\n",
    "    @staticmethod\n",
    "    def analyze(path, freq={}):\n",
    "        '''\n",
    "        指定したファイルに含まれる要素および属性を抽出する\n",
    "        \n",
    "        Parameters:  \n",
    "        * path: str  -  Path to the TEI/XML file  \n",
    "        * freq: dict  -  A dictionary to store the results\n",
    "        '''\n",
    "\n",
    "        soup = BeautifulSoup(open(path,'r'), \"xml\")\n",
    "            \n",
    "        children = soup.find(\"TEI\").findChildren(recursive=False)\n",
    "\n",
    "        # freq = {}\n",
    "\n",
    "        for child in children:\n",
    "            p = child.name\n",
    "\n",
    "            if p not in freq:\n",
    "                freq[p] = {}\n",
    "\n",
    "            elements = child.findChildren(recursive=True)\n",
    "            # print(len(elements))\n",
    "\n",
    "            m = freq[p]\n",
    "\n",
    "            for element in elements:\n",
    "                name = element.name\n",
    "                if name not in m:\n",
    "                    m[name] = {}\n",
    "\n",
    "                attrs = element.attrs\n",
    "                if len(attrs) == 0:\n",
    "                    field = \"none\"\n",
    "                    if field not in m[name]:\n",
    "                        m[name][field] = 0\n",
    "                    m[name][field] += 1\n",
    "                for attr in attrs:\n",
    "                    field = attr\n",
    "                    if field not in m[name]:\n",
    "                        m[name][field] = 0\n",
    "                    m[name][field] += 1\n",
    "        \n",
    "        return freq\n",
    "\n",
    "    @staticmethod\n",
    "    def visualize(data):\n",
    "        '''\n",
    "        指定したデータを可視化する\n",
    "        \n",
    "        Parameters:  \n",
    "        * data: dict  -  Data to visualize\n",
    "        '''\n",
    "\n",
    "        '''\n",
    "\n",
    "        # a = range(0, 7)\n",
    "        # b = [55,21,61,98,85,52,99]\n",
    "\n",
    "        freq = {}\n",
    "        for group in data:\n",
    "            # count = 0\n",
    "            # pprint(data[key])\n",
    "            for element in data[group]:\n",
    "                for attr in data[group][element]:\n",
    "                    if element not in freq:\n",
    "                        freq[element] = 0\n",
    "                    freq[element] += data[group][element][attr]\n",
    "\n",
    "        # 値の多い順にソート\n",
    "        freq = {k: v for k, v in sorted(freq.items(), key=lambda item: item[1])}\n",
    "\n",
    "        a = []\n",
    "        b = []\n",
    "        for key in freq:\n",
    "            a.append(key)\n",
    "            b.append(freq[key])\n",
    "        plt.barh(a, b)\n",
    "        plt.show()\n",
    "\n",
    "        '''\n",
    "\n",
    "        pass\n",
    "\n",
    "    @staticmethod\n",
    "    def analyzeDir(path):\n",
    "        '''\n",
    "        指定したパスに含まれるXMLファイルに含まれる要素および属性を抽出する\n",
    "        \n",
    "        Parameters:  \n",
    "        * path: str  -  Path to the TEI/XML file e.g. \"data/*.xml\"\n",
    "        '''\n",
    "\n",
    "        freq = {}\n",
    "\n",
    "        files = glob.glob(path, recursive=True)\n",
    "\n",
    "        for file in files:\n",
    "            freq = TeiTools.analyze(file, freq=freq)\n",
    "\n",
    "        return freq\n",
    "\n",
    "    @staticmethod\n",
    "    def addWordElement(path, target=\"TEI\"):\n",
    "        '''\n",
    "        指定したファイルに含まれるwordにタグを付与する\n",
    "        \n",
    "        Parameters:  \n",
    "        * path: str  -  Path to the TEI/XML file  \n",
    "        * target: str  -  Target element name to add word element\n",
    "\n",
    "        Returns:  \n",
    "        * str  -  The modified XML file\n",
    "        '''\n",
    "\n",
    "        soup = BeautifulSoup(open(path,'r'), \"xml\")\n",
    "\n",
    "        elements = soup.find(target).findChildren(text=True, recursive=True)\n",
    "\n",
    "        for element in elements:\n",
    "            text = element.string.strip()\n",
    "            if text == \"\":\n",
    "                continue\n",
    "\n",
    "            seg = soup.new_tag(\"seg\")\n",
    "\n",
    "            for i in range(len(text)):\n",
    "                w = text[i:i+1]\n",
    "\n",
    "                w = soup.new_tag(\"w\")\n",
    "                w.string = text[i:i+1]\n",
    "\n",
    "                seg.append(w)\n",
    "\n",
    "            element.replace_with(seg)\n",
    "\n",
    "        return soup\n",
    "\n",
    "    @staticmethod\n",
    "    def save(path, soup):\n",
    "        '''\n",
    "        指定したパスにBeautifulSoupオブジェクトを保存する\n",
    "        \n",
    "        Parameters:  \n",
    "        * path: str  -  Path to the TEI/XML file\n",
    "        * soup: BeautifulSoup  -  The modified XML file\n",
    "        '''\n",
    "\n",
    "        f = open(path, 'w')\n",
    "        f.write(soup.prettify())\n",
    "        f.close()"
   ]
  },
  {
   "cell_type": "markdown",
   "metadata": {},
   "source": [
    "## 準備"
   ]
  },
  {
   "cell_type": "markdown",
   "metadata": {},
   "source": [
    "<!-- サンプルデータとして、校異源氏物語のTEI/XMLをダウンロード -->"
   ]
  },
  {
   "cell_type": "code",
   "execution_count": null,
   "metadata": {},
   "outputs": [],
   "source": [
    "#| hide\n",
    "# !git clone https://github.com/kouigenjimonogatari/kouigenjimonogatari.github.io example"
   ]
  },
  {
   "cell_type": "code",
   "execution_count": null,
   "metadata": {},
   "outputs": [
    {
     "name": "stdout",
     "output_type": "stream",
     "text": [
      "mkdir: example: File exists\n",
      "--2022-09-22 18:32:08--  https://www.hi.u-tokyo.ac.jp/collection/degitalgallary/wakozukan/tei/data/main.xml\n",
      "www.hi.u-tokyo.ac.jp (www.hi.u-tokyo.ac.jp) をDNSに問いあわせています... 52.192.145.245, 52.197.208.150\n",
      "www.hi.u-tokyo.ac.jp (www.hi.u-tokyo.ac.jp)|52.192.145.245|:443 に接続しています... 接続しました。\n",
      "HTTP による接続要求を送信しました、応答を待っています... 200 OK\n",
      "長さ: 24518 (24K) [text/xml]\n",
      "`example/main.xml' に保存中\n",
      "\n",
      "example/main.xml    100%[===================>]  23.94K  --.-KB/s 時間 0.02s      \n",
      "\n",
      "2022-09-22 18:32:08 (1.51 MB/s) - `example/main.xml' へ保存完了 [24518/24518]\n",
      "\n"
     ]
    }
   ],
   "source": [
    "!mkdir example\n",
    "!wget https://www.hi.u-tokyo.ac.jp/collection/degitalgallary/wakozukan/tei/data/main.xml -O example/main.xml "
   ]
  },
  {
   "cell_type": "markdown",
   "metadata": {},
   "source": [
    "## 要素の分析"
   ]
  },
  {
   "cell_type": "markdown",
   "metadata": {},
   "source": [
    "TEI/XMLに含まれる要素および属性を一覧します。"
   ]
  },
  {
   "cell_type": "code",
   "execution_count": null,
   "metadata": {},
   "outputs": [
    {
     "data": {
      "text/markdown": [
       "---\n",
       "\n",
       "### TeiTools.analyze\n",
       "\n",
       ">      TeiTools.analyze (path, freq={})\n",
       "\n",
       "指定したファイルに含まれる要素および属性を抽出する\n",
       "\n",
       "Parameters:  \n",
       "* path: str  -  Path to the TEI/XML file  \n",
       "* freq: dict  -  A dictionary to store the results"
      ],
      "text/plain": [
       "---\n",
       "\n",
       "### TeiTools.analyze\n",
       "\n",
       ">      TeiTools.analyze (path, freq={})\n",
       "\n",
       "指定したファイルに含まれる要素および属性を抽出する\n",
       "\n",
       "Parameters:  \n",
       "* path: str  -  Path to the TEI/XML file  \n",
       "* freq: dict  -  A dictionary to store the results"
      ]
     },
     "execution_count": null,
     "metadata": {},
     "output_type": "execute_result"
    }
   ],
   "source": [
    "show_doc(TeiTools.analyze)"
   ]
  },
  {
   "cell_type": "code",
   "execution_count": null,
   "metadata": {},
   "outputs": [
    {
     "data": {
      "text/plain": [
       "{'teiHeader': {'fileDesc': {'none': 1},\n",
       "  'titleStmt': {'none': 1},\n",
       "  'title': {'none': 1},\n",
       "  'publicationStmt': {'none': 1},\n",
       "  'publisher': {'none': 1},\n",
       "  'sourceDesc': {'none': 1},\n",
       "  'listPerson': {'none': 1},\n",
       "  'person': {'xml:id': 9},\n",
       "  'persName': {'none': 9},\n",
       "  'note': {'type': 27, 'subtype': 1, 'source': 1},\n",
       "  'listPlace': {'none': 1},\n",
       "  'place': {'xml:id': 5},\n",
       "  'placeName': {'none': 5}},\n",
       " 'text': {'body': {'none': 1},\n",
       "  'div': {'type': 3, 'none': 2},\n",
       "  'ab': {'style': 14, 'type': 15, 'xml:id': 15, 'none': 2},\n",
       "  'lb': {'style': 14, 'none': 6},\n",
       "  'seg': {'type': 23, 'xml:id': 23},\n",
       "  'add': {'xml:id': 10},\n",
       "  'note': {'target': 4, 'type': 4},\n",
       "  'p': {'none': 6},\n",
       "  'persName': {'corresp': 9},\n",
       "  'name': {'type': 3, 'xml:id': 3},\n",
       "  'placeName': {'corresp': 5}},\n",
       " 'facsimile': {'surface': {'source': 1},\n",
       "  'zone': {'xml:id': 14, 'ulx': 14, 'uly': 14, 'lrx': 14, 'lry': 14}}}"
      ]
     },
     "execution_count": null,
     "metadata": {},
     "output_type": "execute_result"
    }
   ],
   "source": [
    "input_path = \"example/main.xml\"\n",
    "results = TeiTools.analyze(input_path)\n",
    "results"
   ]
  },
  {
   "cell_type": "code",
   "execution_count": null,
   "metadata": {},
   "outputs": [
    {
     "data": {
      "text/markdown": [
       "---\n",
       "\n",
       "### TeiTools.visualize\n",
       "\n",
       ">      TeiTools.visualize (data)\n",
       "\n",
       "指定したデータを可視化する\n",
       "\n",
       "Parameters:  \n",
       "* data: dict  -  Data to visualize"
      ],
      "text/plain": [
       "---\n",
       "\n",
       "### TeiTools.visualize\n",
       "\n",
       ">      TeiTools.visualize (data)\n",
       "\n",
       "指定したデータを可視化する\n",
       "\n",
       "Parameters:  \n",
       "* data: dict  -  Data to visualize"
      ]
     },
     "execution_count": null,
     "metadata": {},
     "output_type": "execute_result"
    }
   ],
   "source": [
    "show_doc(TeiTools.visualize)"
   ]
  },
  {
   "cell_type": "code",
   "execution_count": null,
   "metadata": {},
   "outputs": [],
   "source": [
    "TeiTools.visualize(results)"
   ]
  },
  {
   "cell_type": "code",
   "execution_count": null,
   "metadata": {},
   "outputs": [
    {
     "data": {
      "text/markdown": [
       "---\n",
       "\n",
       "### TeiTools.analyzeDir\n",
       "\n",
       ">      TeiTools.analyzeDir (path)\n",
       "\n",
       "指定したパスに含まれるXMLファイルに含まれる要素および属性を抽出する\n",
       "\n",
       "Parameters:  \n",
       "* path: str  -  Path to the TEI/XML file e.g. \"data/*.xml\""
      ],
      "text/plain": [
       "---\n",
       "\n",
       "### TeiTools.analyzeDir\n",
       "\n",
       ">      TeiTools.analyzeDir (path)\n",
       "\n",
       "指定したパスに含まれるXMLファイルに含まれる要素および属性を抽出する\n",
       "\n",
       "Parameters:  \n",
       "* path: str  -  Path to the TEI/XML file e.g. \"data/*.xml\""
      ]
     },
     "execution_count": null,
     "metadata": {},
     "output_type": "execute_result"
    }
   ],
   "source": [
    "show_doc(TeiTools.analyzeDir)"
   ]
  },
  {
   "cell_type": "code",
   "execution_count": null,
   "metadata": {},
   "outputs": [
    {
     "data": {
      "text/plain": [
       "{'teiHeader': {'fileDesc': {'none': 2},\n",
       "  'titleStmt': {'none': 2},\n",
       "  'title': {'none': 2},\n",
       "  'publicationStmt': {'none': 2},\n",
       "  'publisher': {'none': 2},\n",
       "  'sourceDesc': {'none': 2},\n",
       "  'listPerson': {'none': 2},\n",
       "  'person': {'xml:id': 18},\n",
       "  'persName': {'none': 18},\n",
       "  'note': {'type': 54, 'subtype': 2, 'source': 2},\n",
       "  'listPlace': {'none': 2},\n",
       "  'place': {'xml:id': 10},\n",
       "  'placeName': {'none': 10},\n",
       "  'seg': {'none': 131},\n",
       "  'w': {'none': 2945}},\n",
       " 'text': {'body': {'none': 2},\n",
       "  'div': {'type': 6, 'none': 4},\n",
       "  'ab': {'style': 28, 'type': 30, 'xml:id': 30, 'none': 4},\n",
       "  'lb': {'style': 28, 'none': 12},\n",
       "  'seg': {'type': 46, 'xml:id': 46, 'none': 190},\n",
       "  'add': {'xml:id': 20},\n",
       "  'note': {'target': 8, 'type': 8},\n",
       "  'p': {'none': 12},\n",
       "  'persName': {'corresp': 18},\n",
       "  'name': {'type': 6, 'xml:id': 6},\n",
       "  'placeName': {'corresp': 10},\n",
       "  'w': {'none': 3569}},\n",
       " 'facsimile': {'surface': {'source': 2},\n",
       "  'zone': {'xml:id': 28, 'ulx': 28, 'uly': 28, 'lrx': 28, 'lry': 28},\n",
       "  'seg': {'none': 17},\n",
       "  'w': {'none': 17}},\n",
       " 'seg': {'w': {'none': 4}}}"
      ]
     },
     "execution_count": null,
     "metadata": {},
     "output_type": "execute_result"
    }
   ],
   "source": [
    "input_path = \"example/*.xml\"\n",
    "results = TeiTools.analyzeDir(input_path)\n",
    "results"
   ]
  },
  {
   "cell_type": "code",
   "execution_count": null,
   "metadata": {},
   "outputs": [],
   "source": [
    "TeiTools.visualize(results)"
   ]
  },
  {
   "cell_type": "markdown",
   "metadata": {},
   "source": [
    "## wordタグを付与する"
   ]
  },
  {
   "cell_type": "code",
   "execution_count": null,
   "metadata": {},
   "outputs": [
    {
     "data": {
      "text/markdown": [
       "---\n",
       "\n",
       "### TeiTools.addWordElement\n",
       "\n",
       ">      TeiTools.addWordElement (path)\n",
       "\n",
       "指定したファイルに含まれるwordにタグを付与する\n",
       "\n",
       "Parameters:  \n",
       "* path: str  -  Path to the TEI/XML file\n",
       "\n",
       "Returns:  \n",
       "* str  -  The modified XML file"
      ],
      "text/plain": [
       "---\n",
       "\n",
       "### TeiTools.addWordElement\n",
       "\n",
       ">      TeiTools.addWordElement (path)\n",
       "\n",
       "指定したファイルに含まれるwordにタグを付与する\n",
       "\n",
       "Parameters:  \n",
       "* path: str  -  Path to the TEI/XML file\n",
       "\n",
       "Returns:  \n",
       "* str  -  The modified XML file"
      ]
     },
     "execution_count": null,
     "metadata": {},
     "output_type": "execute_result"
    }
   ],
   "source": [
    "show_doc(TeiTools.addWordElement)"
   ]
  },
  {
   "cell_type": "code",
   "execution_count": null,
   "metadata": {},
   "outputs": [],
   "source": [
    "input_path = \"example/main.xml\"\n",
    "soup = TeiTools.addWordElement(input_path)\n",
    "TeiTools.save(\"example/main2.xml\", soup)"
   ]
  },
  {
   "cell_type": "code",
   "execution_count": null,
   "metadata": {},
   "outputs": [],
   "source": [
    "#| hide\n",
    "import nbdev; nbdev.nbdev_export()"
   ]
  }
 ],
 "metadata": {
  "kernelspec": {
   "display_name": "Python 3.9.12 ('base')",
   "language": "python",
   "name": "python3"
  }
 },
 "nbformat": 4,
 "nbformat_minor": 4
}
