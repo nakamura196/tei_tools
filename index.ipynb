{
 "cells": [
  {
   "cell_type": "code",
   "execution_count": null,
   "metadata": {},
   "outputs": [],
   "source": [
    "#| hide\n",
    "from tei_tools.api import *"
   ]
  },
  {
   "cell_type": "markdown",
   "metadata": {},
   "source": [
    "# tei_tools\n",
    "\n",
    "> "
   ]
  },
  {
   "cell_type": "markdown",
   "metadata": {},
   "source": [
    "This file will become your README and also the index of your documentation."
   ]
  },
  {
   "cell_type": "markdown",
   "metadata": {},
   "source": [
    "## Install"
   ]
  },
  {
   "cell_type": "markdown",
   "metadata": {},
   "source": [
    "```sh\n",
    "pip install tei_tools\n",
    "```"
   ]
  },
  {
   "cell_type": "markdown",
   "metadata": {},
   "source": [
    "## How to use"
   ]
  },
  {
   "cell_type": "markdown",
   "metadata": {},
   "source": [
    "[See the documentation](https://nakamura196.github.io/tei_tools/api.html) for full details of the API Client."
   ]
  },
  {
   "cell_type": "code",
   "execution_count": null,
   "metadata": {},
   "outputs": [
    {
     "data": {
      "text/plain": [
       "{'teiHeader': {'fileDesc': {'none': 4},\n",
       "  'titleStmt': {'none': 4},\n",
       "  'title': {'none': 4},\n",
       "  'publicationStmt': {'none': 4},\n",
       "  'publisher': {'none': 4},\n",
       "  'sourceDesc': {'none': 4},\n",
       "  'listPerson': {'none': 4},\n",
       "  'person': {'xml:id': 36},\n",
       "  'persName': {'none': 36},\n",
       "  'note': {'type': 108, 'subtype': 4, 'source': 4},\n",
       "  'listPlace': {'none': 4},\n",
       "  'place': {'xml:id': 20},\n",
       "  'placeName': {'none': 20}},\n",
       " 'text': {'body': {'none': 4},\n",
       "  'div': {'type': 12, 'none': 8},\n",
       "  'ab': {'style': 56, 'type': 60, 'xml:id': 60, 'none': 8},\n",
       "  'lb': {'style': 56, 'none': 24},\n",
       "  'seg': {'type': 92, 'xml:id': 92},\n",
       "  'add': {'xml:id': 40},\n",
       "  'note': {'target': 16, 'type': 16},\n",
       "  'p': {'none': 24},\n",
       "  'persName': {'corresp': 36},\n",
       "  'name': {'type': 12, 'xml:id': 12},\n",
       "  'placeName': {'corresp': 20}},\n",
       " 'facsimile': {'surface': {'source': 4},\n",
       "  'zone': {'xml:id': 56, 'ulx': 56, 'uly': 56, 'lrx': 56, 'lry': 56}}}"
      ]
     },
     "execution_count": null,
     "metadata": {},
     "output_type": "execute_result"
    }
   ],
   "source": [
    "# !mkdir example\n",
    "# !wget https://www.hi.u-tokyo.ac.jp/collection/degitalgallary/wakozukan/tei/data/main.xml -O example/main.xml \n",
    "input_path = \"example/main.xml\"\n",
    "results = TeiTools.analyze(input_path)\n",
    "# TeiTools.visualize(results)\n",
    "results"
   ]
  },
  {
   "cell_type": "code",
   "execution_count": null,
   "metadata": {},
   "outputs": [],
   "source": []
  }
 ],
 "metadata": {
  "kernelspec": {
   "display_name": "Python 3.9.12 ('base')",
   "language": "python",
   "name": "python3"
  }
 },
 "nbformat": 4,
 "nbformat_minor": 4
}
