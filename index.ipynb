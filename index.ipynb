{
 "cells": [
  {
   "cell_type": "code",
   "execution_count": null,
   "metadata": {},
   "outputs": [],
   "source": [
    "#| hide\n",
    "from tei_tools.api import *"
   ]
  },
  {
   "cell_type": "markdown",
   "metadata": {},
   "source": [
    "# tei_tools\n",
    "\n",
    "> "
   ]
  },
  {
   "cell_type": "markdown",
   "metadata": {},
   "source": [
    "This file will become your README and also the index of your documentation."
   ]
  },
  {
   "cell_type": "markdown",
   "metadata": {},
   "source": [
    "## Install"
   ]
  },
  {
   "cell_type": "markdown",
   "metadata": {},
   "source": [
    "```sh\n",
    "pip install tei_tools\n",
    "```"
   ]
  },
  {
   "cell_type": "markdown",
   "metadata": {},
   "source": [
    "## How to use"
   ]
  },
  {
   "cell_type": "markdown",
   "metadata": {},
   "source": [
    "[See the documentation](https://nakamura196.github.io/tei_tools/api.html) for full details of the API Client."
   ]
  },
  {
   "cell_type": "code",
   "execution_count": null,
   "metadata": {},
   "outputs": [
    {
     "data": {
      "text/plain": [
       "{'teiHeader': {'fileDesc': {'none': 3},\n",
       "  'titleStmt': {'none': 3},\n",
       "  'title': {'none': 3},\n",
       "  'publicationStmt': {'none': 3},\n",
       "  'publisher': {'none': 3},\n",
       "  'sourceDesc': {'none': 3},\n",
       "  'listPerson': {'none': 3},\n",
       "  'person': {'xml:id': 27},\n",
       "  'persName': {'none': 27},\n",
       "  'note': {'type': 81, 'subtype': 3, 'source': 3},\n",
       "  'listPlace': {'none': 3},\n",
       "  'place': {'xml:id': 15},\n",
       "  'placeName': {'none': 15}},\n",
       " 'text': {'body': {'none': 3},\n",
       "  'div': {'type': 9, 'none': 6},\n",
       "  'ab': {'style': 42, 'type': 45, 'xml:id': 45, 'none': 6},\n",
       "  'lb': {'style': 42, 'none': 18},\n",
       "  'seg': {'type': 69, 'xml:id': 69},\n",
       "  'add': {'xml:id': 30},\n",
       "  'note': {'target': 12, 'type': 12},\n",
       "  'p': {'none': 18},\n",
       "  'persName': {'corresp': 27},\n",
       "  'name': {'type': 9, 'xml:id': 9},\n",
       "  'placeName': {'corresp': 15}},\n",
       " 'facsimile': {'surface': {'source': 3},\n",
       "  'zone': {'xml:id': 42, 'ulx': 42, 'uly': 42, 'lrx': 42, 'lry': 42}}}"
      ]
     },
     "execution_count": null,
     "metadata": {},
     "output_type": "execute_result"
    }
   ],
   "source": [
    "# !mkdir example\n",
    "# !wget https://www.hi.u-tokyo.ac.jp/collection/degitalgallary/wakozukan/tei/data/main.xml -O example/main.xml \n",
    "input_path = \"example/main.xml\"\n",
    "results = TeiTools.analyze(input_path)\n",
    "# TeiTools.visualize(results)\n",
    "results"
   ]
  },
  {
   "cell_type": "markdown",
   "metadata": {},
   "source": [
    "## Wordタグの付与"
   ]
  },
  {
   "cell_type": "markdown",
   "metadata": {},
   "source": [
    "XMLファイルに含まれる文字列に対して、wタグを付与します。"
   ]
  },
  {
   "cell_type": "code",
   "execution_count": null,
   "metadata": {},
   "outputs": [],
   "source": [
    "input_path = \"example/main.xml\"\n",
    "results = TeiTools.addWordElement(input_path)\n",
    "TeiTools.save(\"example/main_with_word.xml\", results)"
   ]
  }
 ],
 "metadata": {
  "kernelspec": {
   "display_name": "Python 3.9.12 ('base')",
   "language": "python",
   "name": "python3"
  }
 },
 "nbformat": 4,
 "nbformat_minor": 4
}
